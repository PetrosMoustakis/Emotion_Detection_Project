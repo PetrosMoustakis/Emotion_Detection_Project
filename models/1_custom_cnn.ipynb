{
 "cells": [
  {
   "cell_type": "code",
   "id": "initial_id",
   "metadata": {
    "collapsed": true,
    "ExecuteTime": {
     "end_time": "2025-06-07T13:06:40.776639Z",
     "start_time": "2025-06-07T13:06:40.667815Z"
    }
   },
   "source": "import numpy as np",
   "outputs": [],
   "execution_count": 1
  },
  {
   "metadata": {
    "ExecuteTime": {
     "end_time": "2025-06-07T13:07:05.504198Z",
     "start_time": "2025-06-07T13:07:05.496197Z"
    }
   },
   "cell_type": "code",
   "source": "data = np.load('emotion_detection_data.npz')",
   "id": "5277c8fbc7470459",
   "outputs": [],
   "execution_count": 2
  },
  {
   "metadata": {
    "ExecuteTime": {
     "end_time": "2025-06-07T13:07:17.054415Z",
     "start_time": "2025-06-07T13:07:16.221960Z"
    }
   },
   "cell_type": "code",
   "source": "x_train, y_train = data['x_train'], data['y_train']",
   "id": "54f695423806020a",
   "outputs": [],
   "execution_count": 3
  }
 ],
 "metadata": {
  "kernelspec": {
   "display_name": "Python 3",
   "language": "python",
   "name": "python3"
  },
  "language_info": {
   "codemirror_mode": {
    "name": "ipython",
    "version": 2
   },
   "file_extension": ".py",
   "mimetype": "text/x-python",
   "name": "python",
   "nbconvert_exporter": "python",
   "pygments_lexer": "ipython2",
   "version": "2.7.6"
  }
 },
 "nbformat": 4,
 "nbformat_minor": 5
}
